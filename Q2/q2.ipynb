{
 "cells": [
  {
   "cell_type": "code",
   "execution_count": 9,
   "id": "f74d87fc",
   "metadata": {},
   "outputs": [
    {
     "name": "stdout",
     "output_type": "stream",
     "text": [
      "**Annual Temperature Report for Seoul in 2022***\n",
      "\n",
      "Day with the largest Temperature Variation: 2022-11-29\n",
      "\n",
      "Maximum Temperature Difference: 16.6 Celsius\n",
      "\n",
      "Day with the Smallest Temperature Variation: 2022-06-29\n",
      "\n",
      "Minimum Temperature Difference: 1.7 Celsius\n",
      "\n"
     ]
    }
   ],
   "source": [
    "import csv\n",
    "\n",
    "def main():\n",
    "    f=open('2022_Seoul_Temp.csv',encoding='cp949')\n",
    "    data=csv.reader(f)\n",
    "    Header=next(data)\n",
    "\n",
    "    max=''\n",
    "    min=''\n",
    "    max_temp=-999\n",
    "    min_temp=999\n",
    "\n",
    "    for row in data:\n",
    "        if (row[-1]!='')&(row[-2]!='')&(row[-3]!=''):\n",
    "            if max_temp<float(row[-1])-float(row[-2]):\n",
    "                max_temp=float(row[-1])-float(row[-2])\n",
    "                max=row[0]\n",
    "            if min_temp>float(row[-1])-float(row[-2]):\n",
    "                min_temp=float(row[-1])-float(row[-2])\n",
    "                min=row[0]\n",
    "\n",
    "    print(\"**Annual Temperature Report for Seoul in 2022***\\n\")\n",
    "    print(\"Day with the largest Temperature Variation: {0:s}\\n\".format(max))\n",
    "    print(\"Maximum Temperature Difference: {0:2.1f} Celsius\\n\".format(max_temp))\n",
    "    print(\"Day with the Smallest Temperature Variation: {0:s}\\n\".format(min))\n",
    "    print(\"Minimum Temperature Difference: {0:2.1f} Celsius\\n\".format(min_temp))\n",
    "\n",
    "if __name__ == '__main__':\n",
    "    main()"
   ]
  },
  {
   "cell_type": "code",
   "execution_count": null,
   "id": "98c7b11d",
   "metadata": {},
   "outputs": [],
   "source": []
  }
 ],
 "metadata": {
  "kernelspec": {
   "display_name": "Python 3 (ipykernel)",
   "language": "python",
   "name": "python3"
  },
  "language_info": {
   "codemirror_mode": {
    "name": "ipython",
    "version": 3
   },
   "file_extension": ".py",
   "mimetype": "text/x-python",
   "name": "python",
   "nbconvert_exporter": "python",
   "pygments_lexer": "ipython3",
   "version": "3.9.7"
  }
 },
 "nbformat": 4,
 "nbformat_minor": 5
}
