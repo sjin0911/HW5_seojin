{
 "cells": [
  {
   "cell_type": "code",
   "execution_count": 9,
   "id": "9c02b88e",
   "metadata": {},
   "outputs": [
    {
     "name": "stdout",
     "output_type": "stream",
     "text": [
      "*** Subway Report for Seoul on March 2023 ***\n",
      "\n",
      "Line 1:\n",
      "\n",
      "Busiest Station: 서울역 (3084227)\n",
      "\n",
      "Least used Station: 동묘앞 (658566)\n",
      "\n",
      "Line 2:\n",
      "\n",
      "Busiest Station: 강남 (4690366)\n",
      "\n",
      "Least used Station: 도림천 (80084)\n",
      "\n",
      "Line 3:\n",
      "\n",
      "Busiest Station: 고속터미널 (2886887)\n",
      "\n",
      "Least used Station: 충무로 (48)\n",
      "\n",
      "Line 4:\n",
      "\n",
      "Busiest Station: 혜화 (2286709)\n",
      "\n",
      "Least used Station: 남태령 (79916)\n",
      "\n"
     ]
    }
   ],
   "source": [
    "import csv\n",
    "\n",
    "def main():\n",
    "    f=open('202303_Seoul_Subway.csv',encoding='utf-8')\n",
    "    data=csv.reader(f)\n",
    "    Header=next(data)\n",
    "\n",
    "    busiest_station=['','','','']\n",
    "    busiest_user=[0,0,0,0]\n",
    "    least_station=['','','','']\n",
    "    least_user=[9999999,9999999,9999999,9999999]\n",
    "    \n",
    "    for row in data:\n",
    "        if row[1]=='1호선':\n",
    "            if (int(row[-1])+int(row[-2]))>busiest_user[0]:\n",
    "                busiest_user[0]=int(row[-1])+int(row[-2])\n",
    "                busiest_station[0]=row[3]\n",
    "            if (int(row[-1])+int(row[-2]))<least_user[0]:\n",
    "                least_user[0]=int(row[-1])+int(row[-2])\n",
    "                least_station[0]=row[3]\n",
    "        elif row[1]=='2호선':\n",
    "            if (int(row[-1])+int(row[-2]))>busiest_user[1]:\n",
    "                busiest_user[1]=int(row[-1])+int(row[-2])\n",
    "                busiest_station[1]=row[3]\n",
    "            if (int(row[-1])+int(row[-2]))<least_user[1]:\n",
    "                least_user[1]=int(row[-1])+int(row[-2])\n",
    "                least_station[1]=row[3]\n",
    "        elif row[1]=='3호선':\n",
    "            if (int(row[-1])+int(row[-2]))>busiest_user[2]:\n",
    "                busiest_user[2]=int(row[-1])+int(row[-2])\n",
    "                busiest_station[2]=row[3]\n",
    "            if (int(row[-1])+int(row[-2]))<least_user[2]:\n",
    "                least_user[2]=int(row[-1])+int(row[-2])\n",
    "                least_station[2]=row[3]\n",
    "        elif row[1]=='4호선':\n",
    "            if (int(row[-1])+int(row[-2]))>busiest_user[3]:\n",
    "                busiest_user[3]=int(row[-1])+int(row[-2])\n",
    "                busiest_station[3]=row[3]\n",
    "            if (int(row[-1])+int(row[-2]))<least_user[3]:\n",
    "                least_user[3]=int(row[-1])+int(row[-2])\n",
    "                least_station[3]=row[3]\n",
    "    \n",
    "    print(\"*** Subway Report for Seoul on March 2023 ***\\n\")\n",
    "    for i in range(0,4):\n",
    "        print(\"Line {0:d}:\\n\".format(i+1))\n",
    "        print(\"Busiest Station: {0:s} ({1:d})\\n\".format(busiest_station[i],busiest_user[i]))\n",
    "        print(\"Least used Station: {0:s} ({1:d})\\n\".format(least_station[i],least_user[i]))\n",
    "\n",
    "            \n",
    "if __name__ == '__main__':\n",
    "    main()"
   ]
  },
  {
   "cell_type": "code",
   "execution_count": null,
   "id": "ab3296e3",
   "metadata": {},
   "outputs": [],
   "source": []
  }
 ],
 "metadata": {
  "kernelspec": {
   "display_name": "Python 3 (ipykernel)",
   "language": "python",
   "name": "python3"
  },
  "language_info": {
   "codemirror_mode": {
    "name": "ipython",
    "version": 3
   },
   "file_extension": ".py",
   "mimetype": "text/x-python",
   "name": "python",
   "nbconvert_exporter": "python",
   "pygments_lexer": "ipython3",
   "version": "3.9.7"
  }
 },
 "nbformat": 4,
 "nbformat_minor": 5
}
