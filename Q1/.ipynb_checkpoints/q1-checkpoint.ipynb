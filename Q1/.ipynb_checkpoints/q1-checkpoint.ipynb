{
 "cells": [
  {
   "cell_type": "code",
   "execution_count": 9,
   "id": "ac157ee9",
   "metadata": {},
   "outputs": [
    {
     "name": "stdout",
     "output_type": "stream",
     "text": [
      "*** Annual Temperature Report for Seoul in 2022 ***\n",
      "\n",
      "Average Temperature: 13.26 Celsius\n",
      "\n",
      "Average Minimum Temperature: 9.21 Celsius\n",
      "\n",
      "Average Maximum Temperature: 18.05 Celsius\n",
      "\n"
     ]
    }
   ],
   "source": [
    "import csv\n",
    "\n",
    "def main():\n",
    "    f=open('2022_Seoul_Temp.csv',encoding='cp949')\n",
    "    data=csv.reader(f)\n",
    "    Header=next(data)\n",
    "\n",
    "    sum=[0,0,0]\n",
    "    count=[0,0,0]\n",
    "\n",
    "    for row in data:\n",
    "        if (row[-1]!='')&(row[-2]!='')&(row[-3]!=''):\n",
    "            for i in range(2,5):\n",
    "                    count[i-2]=count[i-2]+1\n",
    "                    sum[i-2]=sum[i-2]+float(row[i])\n",
    "\n",
    "    print(\"*** Annual Temperature Report for Seoul in 2022 ***\\n\")\n",
    "    print(\"Average Temperature: {0:2.2f} Celsius\\n\".format(sum[0]/count[0]))\n",
    "    print(\"Average Minimum Temperature: {0:2.2f} Celsius\\n\".format(sum[1]/count[1]))\n",
    "    print(\"Average Maximum Temperature: {0:2.2f} Celsius\\n\".format(sum[2]/count[2]))\n",
    "\n",
    "if __name__ == '__main__':\n",
    "    main()"
   ]
  },
  {
   "cell_type": "code",
   "execution_count": null,
   "id": "27dcf831",
   "metadata": {},
   "outputs": [],
   "source": []
  }
 ],
 "metadata": {
  "kernelspec": {
   "display_name": "Python 3 (ipykernel)",
   "language": "python",
   "name": "python3"
  },
  "language_info": {
   "codemirror_mode": {
    "name": "ipython",
    "version": 3
   },
   "file_extension": ".py",
   "mimetype": "text/x-python",
   "name": "python",
   "nbconvert_exporter": "python",
   "pygments_lexer": "ipython3",
   "version": "3.9.7"
  }
 },
 "nbformat": 4,
 "nbformat_minor": 5
}
