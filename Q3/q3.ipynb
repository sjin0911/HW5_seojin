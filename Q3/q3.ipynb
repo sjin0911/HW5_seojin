{
 "cells": [
  {
   "cell_type": "code",
   "execution_count": 20,
   "id": "b5df27b4",
   "metadata": {},
   "outputs": [
    {
     "name": "stdout",
     "output_type": "stream",
     "text": [
      "*** Subway Report for Seoul on March 2023 ***\n",
      "\n",
      "1st Busiest Line: Line 2 (85620512)\n",
      "\n",
      "2nd Busiest Line: Line 5 (39671990)\n",
      "\n",
      "1st Least Line: Line 8 (11863928)\n",
      "\n",
      "2nd Least Line: Line 1 (14705833)\n",
      "\n"
     ]
    }
   ],
   "source": [
    "import csv\n",
    "\n",
    "def main():\n",
    "    f=open('202303_Seoul_Subway.csv',encoding='utf-8')\n",
    "    data=csv.reader(f)\n",
    "    Header=next(data)\n",
    "    \n",
    "    line=[0,0,0,0,0,0,0,0,0]\n",
    "    ranking=[0,0,0,0,0,0,0,0,0]\n",
    "    \n",
    "    for row in data:\n",
    "        if row[1]=='1호선':\n",
    "            line[0]=line[0]+int(row[-2])+int(row[-1])\n",
    "        elif row[1]=='2호선':\n",
    "            line[1]=line[1]+int(row[-2])+int(row[-1])\n",
    "        elif row[1]=='3호선':\n",
    "            line[2]=line[2]+int(row[-2])+int(row[-1])\n",
    "        elif row[1]=='4호선':\n",
    "            line[3]=line[3]+int(row[-2])+int(row[-1])\n",
    "        elif row[1]=='5호선':\n",
    "            line[4]=line[4]+int(row[-2])+int(row[-1])\n",
    "        elif row[1]=='6호선':\n",
    "            line[5]=line[5]+int(row[-2])+int(row[-1])\n",
    "        elif row[1]=='7호선':\n",
    "            line[6]=line[6]+int(row[-2])+int(row[-1])\n",
    "        elif row[1]=='8호선':\n",
    "            line[7]=line[7]+int(row[-2])+int(row[-1])\n",
    "        elif row[1]=='9호선':\n",
    "            line[8]=line[8]+int(row[-2])+int(row[-1])\n",
    "            \n",
    "    for i in range(0,9):\n",
    "        for j in range(0,9):\n",
    "            if (line[i]<line[j])&(j!=i):\n",
    "                ranking[i]=ranking[i]+1\n",
    "                \n",
    "        \n",
    "    print(\"*** Subway Report for Seoul on March 2023 ***\\n\")\n",
    "    for i in range(0,9):\n",
    "        if ranking[i]==0:\n",
    "            print(\"1st Busiest Line: Line {0:d} ({1:d})\\n\".format(i+1,line[i]))\n",
    "    for i in range(0,9):\n",
    "        if ranking[i]==1:\n",
    "            print(\"2nd Busiest Line: Line {0:d} ({1:d})\\n\".format(i+1,line[i]))\n",
    "    for i in range(0,9):\n",
    "        if ranking[i]==8:\n",
    "            print(\"1st Least Line: Line {0:d} ({1:d})\\n\".format(i+1,line[i]))\n",
    "    for i in range(0,9):\n",
    "        if ranking[i]==7:\n",
    "            print(\"2nd Least Line: Line {0:d} ({1:d})\\n\".format(i+1,line[i]))\n",
    "            \n",
    "if __name__ == '__main__':\n",
    "    main()"
   ]
  },
  {
   "cell_type": "code",
   "execution_count": null,
   "id": "fafb2913",
   "metadata": {},
   "outputs": [],
   "source": []
  }
 ],
 "metadata": {
  "kernelspec": {
   "display_name": "Python 3 (ipykernel)",
   "language": "python",
   "name": "python3"
  },
  "language_info": {
   "codemirror_mode": {
    "name": "ipython",
    "version": 3
   },
   "file_extension": ".py",
   "mimetype": "text/x-python",
   "name": "python",
   "nbconvert_exporter": "python",
   "pygments_lexer": "ipython3",
   "version": "3.9.7"
  }
 },
 "nbformat": 4,
 "nbformat_minor": 5
}
